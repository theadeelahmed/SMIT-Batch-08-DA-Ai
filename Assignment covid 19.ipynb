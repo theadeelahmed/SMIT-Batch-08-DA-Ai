{
 "cells": [
  {
   "cell_type": "code",
   "execution_count": 1,
   "id": "a9b7b7d8-0f72-46f6-afb7-3e8ee80a638b",
   "metadata": {},
   "outputs": [],
   "source": [
    "import pandas as pd                       #Import libraries\n",
    "import numpy as np \n",
    "import seaborn as sns                    \n",
    "import matplotlib.pyplot as plt "
   ]
  },
  {
   "cell_type": "code",
   "execution_count": 2,
   "id": "71e7d9dc-fdd5-4b23-8377-ddad16b5c54a",
   "metadata": {},
   "outputs": [],
   "source": [
    "df = pd.read_csv('covid_19_country_wise_latest.csv')"
   ]
  },
  {
   "cell_type": "code",
   "execution_count": 4,
   "id": "a2bf2631-8b6d-4e76-9879-67554b7c7e7a",
   "metadata": {},
   "outputs": [
    {
     "data": {
      "text/html": [
       "<div>\n",
       "<style scoped>\n",
       "    .dataframe tbody tr th:only-of-type {\n",
       "        vertical-align: middle;\n",
       "    }\n",
       "\n",
       "    .dataframe tbody tr th {\n",
       "        vertical-align: top;\n",
       "    }\n",
       "\n",
       "    .dataframe thead th {\n",
       "        text-align: right;\n",
       "    }\n",
       "</style>\n",
       "<table border=\"1\" class=\"dataframe\">\n",
       "  <thead>\n",
       "    <tr style=\"text-align: right;\">\n",
       "      <th></th>\n",
       "      <th>Unnamed: 0</th>\n",
       "      <th>Country/Region</th>\n",
       "      <th>Confirmed</th>\n",
       "      <th>Deaths</th>\n",
       "      <th>Recovered</th>\n",
       "      <th>Active</th>\n",
       "      <th>New cases</th>\n",
       "      <th>New deaths</th>\n",
       "      <th>New recovered</th>\n",
       "      <th>Deaths / 100 Cases</th>\n",
       "      <th>Recovered / 100 Cases</th>\n",
       "      <th>Deaths / 100 Recovered</th>\n",
       "      <th>Confirmed last week</th>\n",
       "      <th>1 week change</th>\n",
       "      <th>1 week % increase</th>\n",
       "      <th>WHO Region</th>\n",
       "    </tr>\n",
       "  </thead>\n",
       "  <tbody>\n",
       "    <tr>\n",
       "      <th>0</th>\n",
       "      <td>0</td>\n",
       "      <td>Afghanistan</td>\n",
       "      <td>36263</td>\n",
       "      <td>1269</td>\n",
       "      <td>25198</td>\n",
       "      <td>9796</td>\n",
       "      <td>106.0</td>\n",
       "      <td>10.0</td>\n",
       "      <td>18</td>\n",
       "      <td>3.50</td>\n",
       "      <td>69.49</td>\n",
       "      <td>5.04</td>\n",
       "      <td>35526</td>\n",
       "      <td>737</td>\n",
       "      <td>2.07</td>\n",
       "      <td>Eastern Mediterranean</td>\n",
       "    </tr>\n",
       "    <tr>\n",
       "      <th>1</th>\n",
       "      <td>1</td>\n",
       "      <td>Albania</td>\n",
       "      <td>4880</td>\n",
       "      <td>144</td>\n",
       "      <td>2745</td>\n",
       "      <td>1991</td>\n",
       "      <td>117.0</td>\n",
       "      <td>6.0</td>\n",
       "      <td>63</td>\n",
       "      <td>2.95</td>\n",
       "      <td>56.25</td>\n",
       "      <td>5.25</td>\n",
       "      <td>4171</td>\n",
       "      <td>709</td>\n",
       "      <td>17.00</td>\n",
       "      <td>Europe</td>\n",
       "    </tr>\n",
       "    <tr>\n",
       "      <th>2</th>\n",
       "      <td>2</td>\n",
       "      <td>Algeria</td>\n",
       "      <td>27973</td>\n",
       "      <td>1163</td>\n",
       "      <td>18837</td>\n",
       "      <td>7973</td>\n",
       "      <td>616.0</td>\n",
       "      <td>8.0</td>\n",
       "      <td>749</td>\n",
       "      <td>4.16</td>\n",
       "      <td>67.34</td>\n",
       "      <td>6.17</td>\n",
       "      <td>23691</td>\n",
       "      <td>4282</td>\n",
       "      <td>18.07</td>\n",
       "      <td>Africa</td>\n",
       "    </tr>\n",
       "    <tr>\n",
       "      <th>3</th>\n",
       "      <td>3</td>\n",
       "      <td>Andorra</td>\n",
       "      <td>907</td>\n",
       "      <td>52</td>\n",
       "      <td>803</td>\n",
       "      <td>52</td>\n",
       "      <td>10.0</td>\n",
       "      <td>0.0</td>\n",
       "      <td>0</td>\n",
       "      <td>5.73</td>\n",
       "      <td>88.53</td>\n",
       "      <td>6.48</td>\n",
       "      <td>884</td>\n",
       "      <td>23</td>\n",
       "      <td>2.60</td>\n",
       "      <td>Europe</td>\n",
       "    </tr>\n",
       "    <tr>\n",
       "      <th>4</th>\n",
       "      <td>4</td>\n",
       "      <td>Angola</td>\n",
       "      <td>950</td>\n",
       "      <td>41</td>\n",
       "      <td>242</td>\n",
       "      <td>667</td>\n",
       "      <td>18.0</td>\n",
       "      <td>1.0</td>\n",
       "      <td>0</td>\n",
       "      <td>4.32</td>\n",
       "      <td>25.47</td>\n",
       "      <td>16.94</td>\n",
       "      <td>749</td>\n",
       "      <td>201</td>\n",
       "      <td>26.84</td>\n",
       "      <td>Africa</td>\n",
       "    </tr>\n",
       "  </tbody>\n",
       "</table>\n",
       "</div>"
      ],
      "text/plain": [
       "   Unnamed: 0 Country/Region  Confirmed Deaths  Recovered  Active  New cases  \\\n",
       "0           0    Afghanistan      36263   1269      25198    9796      106.0   \n",
       "1           1        Albania       4880    144       2745    1991      117.0   \n",
       "2           2        Algeria      27973   1163      18837    7973      616.0   \n",
       "3           3        Andorra        907     52        803      52       10.0   \n",
       "4           4         Angola        950     41        242     667       18.0   \n",
       "\n",
       "   New deaths  New recovered  Deaths / 100 Cases  Recovered / 100 Cases  \\\n",
       "0        10.0             18                3.50                  69.49   \n",
       "1         6.0             63                2.95                  56.25   \n",
       "2         8.0            749                4.16                  67.34   \n",
       "3         0.0              0                5.73                  88.53   \n",
       "4         1.0              0                4.32                  25.47   \n",
       "\n",
       "   Deaths / 100 Recovered  Confirmed last week  1 week change  \\\n",
       "0                    5.04                35526            737   \n",
       "1                    5.25                 4171            709   \n",
       "2                    6.17                23691           4282   \n",
       "3                    6.48                  884             23   \n",
       "4                   16.94                  749            201   \n",
       "\n",
       "   1 week % increase             WHO Region  \n",
       "0               2.07  Eastern Mediterranean  \n",
       "1              17.00                 Europe  \n",
       "2              18.07                 Africa  \n",
       "3               2.60                 Europe  \n",
       "4              26.84                 Africa  "
      ]
     },
     "execution_count": 4,
     "metadata": {},
     "output_type": "execute_result"
    }
   ],
   "source": [
    "df.head(5)"
   ]
  },
  {
   "cell_type": "code",
   "execution_count": 6,
   "id": "1961fe8a-b230-46b9-a388-324be512552f",
   "metadata": {},
   "outputs": [],
   "source": [
    "df.set_index(\"Unnamed: 0\",inplace=True)     #set data set index  is unmaned"
   ]
  },
  {
   "cell_type": "code",
   "execution_count": 9,
   "id": "9e90ebca-61b2-47e1-83a6-1f86f58f67a5",
   "metadata": {},
   "outputs": [],
   "source": [
    "df.index.name = \"index\"        #replace index name "
   ]
  },
  {
   "cell_type": "code",
   "execution_count": 11,
   "id": "95f1cb3b-dad2-406f-b235-2a9a61fdf447",
   "metadata": {},
   "outputs": [],
   "source": [
    "def fix_columns(df):                                          # create function replace space with undersoce\n",
    "    df.columns = df.columns.str.replace(\" \", \"_\")\n",
    "    return df\n",
    "\n",
    "# Use the function\n",
    "df = fix_columns(df)\n"
   ]
  },
  {
   "cell_type": "code",
   "execution_count": 13,
   "id": "4ffd161d-11cd-4be9-97ea-d14c84c587de",
   "metadata": {},
   "outputs": [
    {
     "data": {
      "text/plain": [
       "Index(['Country/Region', 'Confirmed', 'Deaths', 'Recovered', 'Active',\n",
       "       'New_cases', 'New_deaths', 'New_recovered', 'Deaths_/_100_Cases',\n",
       "       'Recovered_/_100_Cases', 'Deaths_/_100_Recovered',\n",
       "       'Confirmed_last_week', '1_week_change', '1_week_%_increase',\n",
       "       'WHO_Region'],\n",
       "      dtype='object')"
      ]
     },
     "execution_count": 13,
     "metadata": {},
     "output_type": "execute_result"
    }
   ],
   "source": [
    "df.columns     #checking columns name "
   ]
  },
  {
   "cell_type": "code",
   "execution_count": 14,
   "id": "05b56a8c-1085-4ad3-9f72-253374865b6b",
   "metadata": {},
   "outputs": [
    {
     "name": "stdout",
     "output_type": "stream",
     "text": [
      "<class 'pandas.core.frame.DataFrame'>\n",
      "Index: 187 entries, 0 to 186\n",
      "Data columns (total 15 columns):\n",
      " #   Column                  Non-Null Count  Dtype  \n",
      "---  ------                  --------------  -----  \n",
      " 0   Country/Region          187 non-null    object \n",
      " 1   Confirmed               187 non-null    int64  \n",
      " 2   Deaths                  187 non-null    object \n",
      " 3   Recovered               187 non-null    int64  \n",
      " 4   Active                  187 non-null    int64  \n",
      " 5   New_cases               177 non-null    float64\n",
      " 6   New_deaths              177 non-null    float64\n",
      " 7   New_recovered           187 non-null    int64  \n",
      " 8   Deaths_/_100_Cases      187 non-null    float64\n",
      " 9   Recovered_/_100_Cases   187 non-null    float64\n",
      " 10  Deaths_/_100_Recovered  187 non-null    float64\n",
      " 11  Confirmed_last_week     187 non-null    int64  \n",
      " 12  1_week_change           187 non-null    int64  \n",
      " 13  1_week_%_increase       187 non-null    float64\n",
      " 14  WHO_Region              187 non-null    object \n",
      "dtypes: float64(6), int64(6), object(3)\n",
      "memory usage: 23.4+ KB\n"
     ]
    }
   ],
   "source": [
    "df.info()     #checking data types "
   ]
  },
  {
   "cell_type": "code",
   "execution_count": 16,
   "id": "b7081549-772a-477e-876c-02d5f63ca2ca",
   "metadata": {},
   "outputs": [
    {
     "data": {
      "text/plain": [
       "Country/Region             0\n",
       "Confirmed                  0\n",
       "Deaths                     0\n",
       "Recovered                  0\n",
       "Active                     0\n",
       "New_cases                 10\n",
       "New_deaths                10\n",
       "New_recovered              0\n",
       "Deaths_/_100_Cases         0\n",
       "Recovered_/_100_Cases      0\n",
       "Deaths_/_100_Recovered     0\n",
       "Confirmed_last_week        0\n",
       "1_week_change              0\n",
       "1_week_%_increase          0\n",
       "WHO_Region                 0\n",
       "dtype: int64"
      ]
     },
     "execution_count": 16,
     "metadata": {},
     "output_type": "execute_result"
    }
   ],
   "source": [
    "df.isnull().sum()    #checking nan values "
   ]
  },
  {
   "cell_type": "code",
   "execution_count": 24,
   "id": "4a84e56e-2202-4f99-92bd-958ea20fbaaa",
   "metadata": {},
   "outputs": [],
   "source": [
    "df['New_cases'].fillna(df['New_cases'].mode()[0], inplace=True)\n",
    "df['New_deaths'].fillna(df['New_deaths'].mode()[0], inplace=True)   #fill nan values using mean "
   ]
  },
  {
   "cell_type": "code",
   "execution_count": 27,
   "id": "75c8626b-eb77-4b33-ac51-fa30c65ac15a",
   "metadata": {},
   "outputs": [
    {
     "data": {
      "text/plain": [
       "187"
      ]
     },
     "execution_count": 27,
     "metadata": {},
     "output_type": "execute_result"
    }
   ],
   "source": [
    "df['Country/Region'].nunique()      #count countries "
   ]
  },
  {
   "cell_type": "code",
   "execution_count": 31,
   "id": "92cc341b-210a-43c4-95ef-bc1a921ea565",
   "metadata": {},
   "outputs": [
    {
     "data": {
      "text/plain": [
       "0"
      ]
     },
     "execution_count": 31,
     "metadata": {},
     "output_type": "execute_result"
    }
   ],
   "source": [
    "df['Country/Region'].duplicated().sum()"
   ]
  },
  {
   "cell_type": "code",
   "execution_count": 36,
   "id": "63d30c77-9905-4b0c-86ed-51cfb5f9af6a",
   "metadata": {},
   "outputs": [
    {
     "name": "stdout",
     "output_type": "stream",
     "text": [
      "88130.935828877\n",
      "5059.0\n",
      "383318.66383061546\n"
     ]
    }
   ],
   "source": [
    "mean_cases = df['Confirmed'].mean()\n",
    "median_cases = df['Confirmed'].median()\n",
    "std_cases = df['Confirmed'].std()\n",
    "print(mean_cases)\n",
    "print(median_cases)\n",
    "print(std_cases)"
   ]
  },
  {
   "cell_type": "code",
   "execution_count": 42,
   "id": "418d04d4-6d2a-410e-a8ec-b45aa8d555d5",
   "metadata": {},
   "outputs": [],
   "source": [
    "# Convert the column to numeric, forcing errors to NaN\n",
    "df['Deaths'] = pd.to_numeric(df['Deaths'], errors='coerce')\n",
    "\n",
    "# Fill NaN values (which were strings) with the mean of the column\n",
    "df['Deaths'].fillna(df['Deaths'].mean(), inplace=True)\n"
   ]
  },
  {
   "cell_type": "code",
   "execution_count": 45,
   "id": "65ee06b1-7d21-4125-98e3-184f9db2be18",
   "metadata": {},
   "outputs": [
    {
     "data": {
      "text/plain": [
       "dtype('int32')"
      ]
     },
     "execution_count": 45,
     "metadata": {},
     "output_type": "execute_result"
    }
   ],
   "source": [
    "df['Deaths'].dtype"
   ]
  },
  {
   "cell_type": "code",
   "execution_count": 46,
   "id": "d587e278-1f7e-4365-ad0a-f8da0539c05d",
   "metadata": {},
   "outputs": [],
   "source": [
    "df['Deaths'] = df['Deaths'].astype(int)"
   ]
  },
  {
   "cell_type": "code",
   "execution_count": 47,
   "id": "b4b37cf2-5dc5-4787-a7f2-cad6df0d960b",
   "metadata": {},
   "outputs": [
    {
     "data": {
      "text/plain": [
       "657516"
      ]
     },
     "execution_count": 47,
     "metadata": {},
     "output_type": "execute_result"
    }
   ],
   "source": [
    "df['Deaths'].sum()"
   ]
  },
  {
   "cell_type": "code",
   "execution_count": 48,
   "id": "e401a03e-aa07-4297-8b1f-96741db183d8",
   "metadata": {},
   "outputs": [
    {
     "data": {
      "text/plain": [
       "9468087"
      ]
     },
     "execution_count": 48,
     "metadata": {},
     "output_type": "execute_result"
    }
   ],
   "source": [
    "df['Recovered'].sum()"
   ]
  },
  {
   "cell_type": "code",
   "execution_count": 51,
   "id": "022926e9-d04b-4487-9483-15edfd6ea12a",
   "metadata": {},
   "outputs": [
    {
     "name": "stdout",
     "output_type": "stream",
     "text": [
      "3\n"
     ]
    }
   ],
   "source": [
    "high_cases = df[df['Confirmed'] > 1000000]  # Filter countries with cases > 1M\n",
    "count = high_cases['Country/Region'].nunique()  # Count unique countries\n",
    "\n",
    "print(count)\n"
   ]
  },
  {
   "cell_type": "code",
   "execution_count": 54,
   "id": "af276f81-8b15-471b-a198-34f670bdea06",
   "metadata": {},
   "outputs": [
    {
     "name": "stdout",
     "output_type": "stream",
     "text": [
      "['Antigua and Barbuda' 'Belize' 'Dominica' 'Fiji' 'Greenland' 'Grenada'\n",
      " 'Holy See' 'Laos' 'Liechtenstein' 'Saint Kitts and Nevis' 'Saint Lucia'\n",
      " 'Saint Vincent and the Grenadines' 'Western Sahara']\n"
     ]
    }
   ],
   "source": [
    "df['Recovered'] = (df['Recovered'] / df['Confirmed']) * 100  # Calculate recovery rate\n",
    "high_recovery = df[df['Recovered'] > 95]  # Filter countries with > 95% recovery rate\n",
    "\n",
    "countries = high_recovery['Country/Region'].unique()  # Get unique country names\n",
    "print(countries)\n"
   ]
  },
  {
   "cell_type": "code",
   "execution_count": 77,
   "id": "33cfee3d-17de-4aeb-91a6-5808790eacb5",
   "metadata": {},
   "outputs": [],
   "source": [
    "df = df.drop(columns=['WHO_Region', 'Confirmed'])"
   ]
  },
  {
   "cell_type": "code",
   "execution_count": 78,
   "id": "39457a42-0ada-43d8-a8a0-8acf7f19ae6c",
   "metadata": {},
   "outputs": [
    {
     "name": "stdout",
     "output_type": "stream",
     "text": [
      "Country/Region    Zimbabwe\n",
      "Deaths              148011\n",
      "dtype: object\n"
     ]
    }
   ],
   "source": [
    "print(df[['Country/Region', 'Deaths']].max())"
   ]
  },
  {
   "cell_type": "code",
   "execution_count": 79,
   "id": "c8e53129-12d6-4ec7-87ef-9599c3f2604d",
   "metadata": {},
   "outputs": [
    {
     "data": {
      "text/html": [
       "<div>\n",
       "<style scoped>\n",
       "    .dataframe tbody tr th:only-of-type {\n",
       "        vertical-align: middle;\n",
       "    }\n",
       "\n",
       "    .dataframe tbody tr th {\n",
       "        vertical-align: top;\n",
       "    }\n",
       "\n",
       "    .dataframe thead th {\n",
       "        text-align: right;\n",
       "    }\n",
       "</style>\n",
       "<table border=\"1\" class=\"dataframe\">\n",
       "  <thead>\n",
       "    <tr style=\"text-align: right;\">\n",
       "      <th></th>\n",
       "      <th>Country/Region</th>\n",
       "      <th>Deaths</th>\n",
       "    </tr>\n",
       "    <tr>\n",
       "      <th>index</th>\n",
       "      <th></th>\n",
       "      <th></th>\n",
       "    </tr>\n",
       "  </thead>\n",
       "  <tbody>\n",
       "    <tr>\n",
       "      <th>173</th>\n",
       "      <td>US</td>\n",
       "      <td>148011</td>\n",
       "    </tr>\n",
       "    <tr>\n",
       "      <th>23</th>\n",
       "      <td>Brazil</td>\n",
       "      <td>87618</td>\n",
       "    </tr>\n",
       "    <tr>\n",
       "      <th>177</th>\n",
       "      <td>United Kingdom</td>\n",
       "      <td>45844</td>\n",
       "    </tr>\n",
       "    <tr>\n",
       "      <th>111</th>\n",
       "      <td>Mexico</td>\n",
       "      <td>44022</td>\n",
       "    </tr>\n",
       "    <tr>\n",
       "      <th>85</th>\n",
       "      <td>Italy</td>\n",
       "      <td>35112</td>\n",
       "    </tr>\n",
       "    <tr>\n",
       "      <th>...</th>\n",
       "      <td>...</td>\n",
       "      <td>...</td>\n",
       "    </tr>\n",
       "    <tr>\n",
       "      <th>19</th>\n",
       "      <td>Bhutan</td>\n",
       "      <td>0</td>\n",
       "    </tr>\n",
       "    <tr>\n",
       "      <th>130</th>\n",
       "      <td>Papua New Guinea</td>\n",
       "      <td>0</td>\n",
       "    </tr>\n",
       "    <tr>\n",
       "      <th>75</th>\n",
       "      <td>Holy See</td>\n",
       "      <td>0</td>\n",
       "    </tr>\n",
       "    <tr>\n",
       "      <th>30</th>\n",
       "      <td>Cambodia</td>\n",
       "      <td>0</td>\n",
       "    </tr>\n",
       "    <tr>\n",
       "      <th>114</th>\n",
       "      <td>Mongolia</td>\n",
       "      <td>0</td>\n",
       "    </tr>\n",
       "  </tbody>\n",
       "</table>\n",
       "<p>187 rows × 2 columns</p>\n",
       "</div>"
      ],
      "text/plain": [
       "         Country/Region  Deaths\n",
       "index                          \n",
       "173                  US  148011\n",
       "23               Brazil   87618\n",
       "177      United Kingdom   45844\n",
       "111              Mexico   44022\n",
       "85                Italy   35112\n",
       "...                 ...     ...\n",
       "19               Bhutan       0\n",
       "130    Papua New Guinea       0\n",
       "75             Holy See       0\n",
       "30             Cambodia       0\n",
       "114            Mongolia       0\n",
       "\n",
       "[187 rows x 2 columns]"
      ]
     },
     "execution_count": 79,
     "metadata": {},
     "output_type": "execute_result"
    }
   ],
   "source": [
    "df[['Country/Region', 'Deaths']].sort_values(by='Deaths', ascending=False)  #sort countries in desnding order \n"
   ]
  },
  {
   "cell_type": "code",
   "execution_count": 81,
   "id": "e8c2920d-e546-4e01-bc35-dc5287ef2f76",
   "metadata": {},
   "outputs": [],
   "source": [
    "df['Total_cases'] = df['Deaths'] + df['Recovered'] + df['Active']  "
   ]
  },
  {
   "cell_type": "code",
   "execution_count": 83,
   "id": "36c5226a-e409-4ae5-8c39-5bbbd3ff852d",
   "metadata": {},
   "outputs": [],
   "source": [
    "df['Death_Rate'] = (df['Deaths'] / df['Total_cases']) * 100      "
   ]
  },
  {
   "cell_type": "code",
   "execution_count": 85,
   "id": "62873e09-1073-4e39-90f2-e4997c3365b1",
   "metadata": {},
   "outputs": [
    {
     "name": "stdout",
     "output_type": "stream",
     "text": [
      "              Country/Region   Total_cases  Death_Rate\n",
      "index                                                 \n",
      "28                   Burundi     82.573026    1.211049\n",
      "41                Costa Rica  12017.000962    0.956978\n",
      "49                  Dominica   3086.419753    0.000000\n",
      "68                 Greenland   4738.609329    0.000000\n",
      "75                  Holy See   6944.444444    0.000000\n",
      "84                    Israel  36852.000104    1.286226\n",
      "89                Kazakhstan  30244.000090    1.934268\n",
      "106                 Maldives    822.066608    1.824670\n",
      "118                  Namibia   1742.016134    0.459238\n",
      "119                    Nepal   4998.002086    0.960384\n",
      "127                     Oman  20030.000125    1.962057\n",
      "140    Saint Kitts and Nevis   3055.124364    0.000000\n",
      "150                Singapore   5146.000348    0.524679\n",
      "179               Uzbekistan   9535.001224    1.269009\n",
      "182       West Bank and Gaza   6869.003132    1.135536\n",
      "183           Western Sahara   8002.000000    0.012497\n"
     ]
    }
   ],
   "source": [
    "low_death_countries = df[(df['Total_cases'].diff() > 0) & (df['Death_Rate'] < 2)]\n",
    "print(low_death_countries[['Country/Region', 'Total_cases', 'Death_Rate']])\n"
   ]
  },
  {
   "cell_type": "code",
   "execution_count": 88,
   "id": "2a7ac4a8-1c70-4756-a128-92dcceb4363d",
   "metadata": {},
   "outputs": [
    {
     "name": "stdout",
     "output_type": "stream",
     "text": [
      "              Country/Region   Total_cases  Death_Rate\n",
      "index                                                 \n",
      "28                   Burundi     82.573026    1.211049\n",
      "41                Costa Rica  12017.000962    0.956978\n",
      "49                  Dominica   3086.419753    0.000000\n",
      "68                 Greenland   4738.609329    0.000000\n",
      "75                  Holy See   6944.444444    0.000000\n",
      "84                    Israel  36852.000104    1.286226\n",
      "89                Kazakhstan  30244.000090    1.934268\n",
      "106                 Maldives    822.066608    1.824670\n",
      "118                  Namibia   1742.016134    0.459238\n",
      "119                    Nepal   4998.002086    0.960384\n",
      "127                     Oman  20030.000125    1.962057\n",
      "140    Saint Kitts and Nevis   3055.124364    0.000000\n",
      "150                Singapore   5146.000348    0.524679\n",
      "179               Uzbekistan   9535.001224    1.269009\n",
      "182       West Bank and Gaza   6869.003132    1.135536\n",
      "183           Western Sahara   8002.000000    0.012497\n"
     ]
    }
   ],
   "source": [
    "low_death_countries = df[(df['Total_cases'].diff() > 0) & (df['Death_Rate'] < 2)]\n",
    "print(low_death_countries[['Country/Region', 'Total_cases', 'Death_Rate']])\n"
   ]
  },
  {
   "cell_type": "code",
   "execution_count": 96,
   "id": "6f0af632-a803-44ce-a471-6240761bbbb8",
   "metadata": {},
   "outputs": [
    {
     "data": {
      "text/html": [
       "<div>\n",
       "<style scoped>\n",
       "    .dataframe tbody tr th:only-of-type {\n",
       "        vertical-align: middle;\n",
       "    }\n",
       "\n",
       "    .dataframe tbody tr th {\n",
       "        vertical-align: top;\n",
       "    }\n",
       "\n",
       "    .dataframe thead th {\n",
       "        text-align: right;\n",
       "    }\n",
       "</style>\n",
       "<table border=\"1\" class=\"dataframe\">\n",
       "  <thead>\n",
       "    <tr style=\"text-align: right;\">\n",
       "      <th></th>\n",
       "      <th>Country/Region</th>\n",
       "      <th>Death_Rate</th>\n",
       "    </tr>\n",
       "    <tr>\n",
       "      <th>index</th>\n",
       "      <th></th>\n",
       "      <th></th>\n",
       "    </tr>\n",
       "  </thead>\n",
       "  <tbody>\n",
       "    <tr>\n",
       "      <th>0</th>\n",
       "      <td>Afghanistan</td>\n",
       "      <td>11.468594</td>\n",
       "    </tr>\n",
       "    <tr>\n",
       "      <th>1</th>\n",
       "      <td>Albania</td>\n",
       "      <td>6.744656</td>\n",
       "    </tr>\n",
       "    <tr>\n",
       "      <th>2</th>\n",
       "      <td>Algeria</td>\n",
       "      <td>12.729859</td>\n",
       "    </tr>\n",
       "    <tr>\n",
       "      <th>3</th>\n",
       "      <td>Andorra</td>\n",
       "      <td>49.487895</td>\n",
       "    </tr>\n",
       "    <tr>\n",
       "      <th>4</th>\n",
       "      <td>Angola</td>\n",
       "      <td>5.788653</td>\n",
       "    </tr>\n",
       "  </tbody>\n",
       "</table>\n",
       "</div>"
      ],
      "text/plain": [
       "      Country/Region  Death_Rate\n",
       "index                           \n",
       "0        Afghanistan   11.468594\n",
       "1            Albania    6.744656\n",
       "2            Algeria   12.729859\n",
       "3            Andorra   49.487895\n",
       "4             Angola    5.788653"
      ]
     },
     "execution_count": 96,
     "metadata": {},
     "output_type": "execute_result"
    }
   ],
   "source": [
    "df[['Country/Region', 'Death_Rate']].head()"
   ]
  },
  {
   "cell_type": "code",
   "execution_count": 97,
   "id": "913b1eea-1535-4c28-a95e-7795c2e565a0",
   "metadata": {},
   "outputs": [
    {
     "data": {
      "image/png": "[encoded data removed]",
      "text/plain": [
       "<Figure size 1000x600 with 1 Axes>"
      ]
     },
     "metadata": {},
     "output_type": "display_data"
    }
   ],
   "source": [
    "plt.figure(figsize=(10, 6))\n",
    "sns.scatterplot(x=df['Total_cases'], y=df['Deaths'])\n",
    "\n",
    "plt.xlabel('Total Cases')\n",
    "plt.ylabel('Total Deaths')\n",
    "\n",
    "plt.show()"
   ]
  },
  {
   "cell_type": "code",
   "execution_count": 98,
   "id": "2d4dc089-e780-4a05-839e-8aa5f82df1ab",
   "metadata": {},
   "outputs": [],
   "source": [
    "df.to_csv(\"updated_covid19_counrty_ wise.csv\",index=False)"
   ]
  },
  {
   "cell_type": "code",
   "execution_count": null,
   "id": "e20f2903-7d87-4da0-a23e-6dd8d85b6388",
   "metadata": {},
   "outputs": [],
   "source": []
  }
 ],
 "metadata": {
  "kernelspec": {
   "display_name": "Python 3 (ipykernel)",
   "language": "python",
   "name": "python3"
  },
  "language_info": {
   "codemirror_mode": {
    "name": "ipython",
    "version": 3
   },
   "file_extension": ".py",
   "mimetype": "text/x-python",
   "name": "python",
   "nbconvert_exporter": "python",
   "pygments_lexer": "ipython3",
   "version": "3.11.7"
  }
 },
 "nbformat": 4,
 "nbformat_minor": 5
}
